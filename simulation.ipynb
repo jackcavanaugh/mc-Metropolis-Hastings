{
 "cells": [
  {
   "cell_type": "markdown",
   "metadata": {},
   "source": [
    "# Monte Carlo Simulation for Hard Disks\n",
    "\n",
    "This notebook sets simulation parameters, runs the Monte Carlo algorithm (imported from `mc_algorithm.py`), and then plots and visualizes the results.\n",
    "\n",
    "\n",
    "### Initialize Simulation"
   ]
  },
  {
   "cell_type": "code",
   "execution_count": 1,
   "metadata": {},
   "outputs": [],
   "source": [
    "import numpy as np\n",
    "import matplotlib.pyplot as plt\n",
    "from mc_algorithm import run_mc\n",
    "from plots import plot_results\n",
    "from visualize import visualize\n",
    "\n",
    "# Settings\n",
    "runs = 100\n",
    "N = 224\n",
    "A = 1.0\n",
    "L = np.sqrt(A)\n",
    "rows, columns, nu = 16, 14, 7\n",
    "\n",
    "d = 1/columns\n",
    "d0 = d * (1 - 2**(nu-8))\n",
    "alpha = d - d0\n",
    "bins = 64\n",
    "K = 1.5\n",
    "dAsqd = (K**2 - 1) * np.pi * d0**2 / bins\n",
    "histogram = np.zeros((bins, 2))\n",
    "histogram[:, 0] = np.arange(1, bins+1) * np.sqrt(dAsqd / np.pi)\n",
    "\n",
    "dx = d\n",
    "dy = d * np.sqrt(3) / 2\n",
    "r = np.zeros((N, 2))\n",
    "for jj in range(rows):\n",
    "    for ii in range(columns):\n",
    "        idx = ii + jj * columns\n",
    "        r[idx, 0] = ii * dx + (jj % 2) * dx / 2\n",
    "        r[idx, 1] = jj * dy\n",
    "r0 = r.copy()\n",
    "\n",
    "# input(\"Initialized. Press Enter to run simulation...\")"
   ]
  },
  {
   "cell_type": "markdown",
   "metadata": {},
   "source": [
    "### Run Simulation"
   ]
  },
  {
   "cell_type": "code",
   "execution_count": null,
   "metadata": {},
   "outputs": [],
   "source": [
    "# Run Monte Carlo algorithm from separate file\n",
    "r, histogram = run_mc(r, runs, N, d0, alpha, L, bins, dAsqd, histogram)\n",
    "np.save('Monte.npy', r)\n",
    "np.save('histogram.npy', histogram)"
   ]
  },
  {
   "cell_type": "markdown",
   "metadata": {},
   "source": [
    "### Plot Initial Condition"
   ]
  },
  {
   "cell_type": "code",
   "execution_count": 5,
   "metadata": {},
   "outputs": [],
   "source": [
    "# Plot and visualize results\n",
    "plt.close('all')\n",
    "    \n",
    "visualize(r0, d0, L)\n",
    "plt.title('Hard disks in initial state')\n",
    "plt.savefig('pre_sim.png')\n",
    "plt.clf()"
   ]
  },
  {
   "cell_type": "markdown",
   "metadata": {},
   "source": [
    "### Plot End State"
   ]
  },
  {
   "cell_type": "code",
   "execution_count": null,
   "metadata": {},
   "outputs": [],
   "source": [
    "visualize(r, d0, L)\n",
    "plt.title('Hard disks after simulation')\n",
    "plt.savefig('post_sim.png')\n",
    "plt.clf()"
   ]
  },
  {
   "cell_type": "markdown",
   "metadata": {},
   "source": [
    "### RDF for gas state"
   ]
  },
  {
   "cell_type": "code",
   "execution_count": null,
   "metadata": {},
   "outputs": [],
   "source": [
    "plt.figure()\n",
    "plt.plot(histogram[:,0], histogram[:,1], 'o')\n",
    "plt.title('RDF for gas state')\n",
    "plt.xlabel('r')\n",
    "plt.ylabel('g(r)')\n",
    "plt.savefig('rdf.png')\n",
    "plt.clf()"
   ]
  },
  {
   "cell_type": "markdown",
   "metadata": {},
   "source": [
    "### Pressure v. r for gas state"
   ]
  },
  {
   "cell_type": "code",
   "execution_count": null,
   "metadata": {},
   "outputs": [],
   "source": [
    "plt.figure()\n",
    "plt.plot(histogram[:,0], 1 + np.pi*d0**2*histogram[:,1]/2, 'o')\n",
    "plt.title('Pressure v. r for gas state')\n",
    "plt.xlabel('r')\n",
    "plt.ylabel('PA/(N*kb*T)')\n",
    "plt.savefig('pressure.png')\n",
    "plt.close('all')"
   ]
  }
 ],
 "metadata": {
  "kernelspec": {
   "display_name": "Python 3",
   "language": "python",
   "name": "python3"
  },
  "language_info": {
   "codemirror_mode": {
    "name": "ipython",
    "version": 3
   },
   "file_extension": ".py",
   "mimetype": "text/x-python",
   "name": "python",
   "nbconvert_exporter": "python",
   "pygments_lexer": "ipython3",
   "version": "3.8.16"
  }
 },
 "nbformat": 4,
 "nbformat_minor": 2
}
